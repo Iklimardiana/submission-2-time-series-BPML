{
  "nbformat": 4,
  "nbformat_minor": 0,
  "metadata": {
    "colab": {
      "provenance": []
    },
    "kernelspec": {
      "name": "python3",
      "display_name": "Python 3"
    },
    "language_info": {
      "name": "python"
    }
  },
  "cells": [
    {
      "cell_type": "markdown",
      "source": [
        "Author : Iklima Mardiana\n",
        "\n",
        "Dataset : https://www.kaggle.com/datasets/szrlee/stock-time-series-20050101-to-20171231"
      ],
      "metadata": {
        "id": "5drGAPC6Wj4G"
      }
    },
    {
      "cell_type": "code",
      "execution_count": 171,
      "metadata": {
        "id": "GLXS6_EqVD8Q"
      },
      "outputs": [],
      "source": [
        "import numpy as np\n",
        "import pandas as pd\n",
        "import matplotlib.pyplot as plt\n",
        "import tensorflow as tf\n",
        "from keras.layers import Dense, LSTM\n",
        "from sklearn.preprocessing import MinMaxScaler\n",
        "from sklearn.model_selection import train_test_split"
      ]
    },
    {
      "cell_type": "code",
      "source": [
        "df = pd.read_csv('BA_2006-01-01_to_2018-01-01.csv')\n",
        "df"
      ],
      "metadata": {
        "colab": {
          "base_uri": "https://localhost:8080/",
          "height": 423
        },
        "id": "EQFOxE9nWwFA",
        "outputId": "856a0aa6-1a54-4a60-8199-8c7b23e963d6"
      },
      "execution_count": 172,
      "outputs": [
        {
          "output_type": "execute_result",
          "data": {
            "text/plain": [
              "            Date    Open    High     Low   Close   Volume Name\n",
              "0     2006-01-03   70.40   70.60   69.33   70.44  4943100   BA\n",
              "1     2006-01-04   70.08   71.27   69.86   71.17  3165000   BA\n",
              "2     2006-01-05   70.55   70.55   69.58   70.33  4598300   BA\n",
              "3     2006-01-06   70.34   70.50   69.05   69.35  4820200   BA\n",
              "4     2006-01-09   69.28   69.40   68.66   68.77  4567700   BA\n",
              "...          ...     ...     ...     ...     ...      ...  ...\n",
              "3015  2017-12-22  296.33  296.52  293.01  295.10  2257350   BA\n",
              "3016  2017-12-26  295.54  297.44  294.65  295.36  1394737   BA\n",
              "3017  2017-12-27  296.41  296.80  294.80  295.62  1447837   BA\n",
              "3018  2017-12-28  295.81  296.99  294.74  296.35  1436751   BA\n",
              "3019  2017-12-29  296.94  297.30  294.83  294.91  1824591   BA\n",
              "\n",
              "[3020 rows x 7 columns]"
            ],
            "text/html": [
              "\n",
              "  <div id=\"df-345528d2-6a00-4160-96ea-116e47aceb4c\" class=\"colab-df-container\">\n",
              "    <div>\n",
              "<style scoped>\n",
              "    .dataframe tbody tr th:only-of-type {\n",
              "        vertical-align: middle;\n",
              "    }\n",
              "\n",
              "    .dataframe tbody tr th {\n",
              "        vertical-align: top;\n",
              "    }\n",
              "\n",
              "    .dataframe thead th {\n",
              "        text-align: right;\n",
              "    }\n",
              "</style>\n",
              "<table border=\"1\" class=\"dataframe\">\n",
              "  <thead>\n",
              "    <tr style=\"text-align: right;\">\n",
              "      <th></th>\n",
              "      <th>Date</th>\n",
              "      <th>Open</th>\n",
              "      <th>High</th>\n",
              "      <th>Low</th>\n",
              "      <th>Close</th>\n",
              "      <th>Volume</th>\n",
              "      <th>Name</th>\n",
              "    </tr>\n",
              "  </thead>\n",
              "  <tbody>\n",
              "    <tr>\n",
              "      <th>0</th>\n",
              "      <td>2006-01-03</td>\n",
              "      <td>70.40</td>\n",
              "      <td>70.60</td>\n",
              "      <td>69.33</td>\n",
              "      <td>70.44</td>\n",
              "      <td>4943100</td>\n",
              "      <td>BA</td>\n",
              "    </tr>\n",
              "    <tr>\n",
              "      <th>1</th>\n",
              "      <td>2006-01-04</td>\n",
              "      <td>70.08</td>\n",
              "      <td>71.27</td>\n",
              "      <td>69.86</td>\n",
              "      <td>71.17</td>\n",
              "      <td>3165000</td>\n",
              "      <td>BA</td>\n",
              "    </tr>\n",
              "    <tr>\n",
              "      <th>2</th>\n",
              "      <td>2006-01-05</td>\n",
              "      <td>70.55</td>\n",
              "      <td>70.55</td>\n",
              "      <td>69.58</td>\n",
              "      <td>70.33</td>\n",
              "      <td>4598300</td>\n",
              "      <td>BA</td>\n",
              "    </tr>\n",
              "    <tr>\n",
              "      <th>3</th>\n",
              "      <td>2006-01-06</td>\n",
              "      <td>70.34</td>\n",
              "      <td>70.50</td>\n",
              "      <td>69.05</td>\n",
              "      <td>69.35</td>\n",
              "      <td>4820200</td>\n",
              "      <td>BA</td>\n",
              "    </tr>\n",
              "    <tr>\n",
              "      <th>4</th>\n",
              "      <td>2006-01-09</td>\n",
              "      <td>69.28</td>\n",
              "      <td>69.40</td>\n",
              "      <td>68.66</td>\n",
              "      <td>68.77</td>\n",
              "      <td>4567700</td>\n",
              "      <td>BA</td>\n",
              "    </tr>\n",
              "    <tr>\n",
              "      <th>...</th>\n",
              "      <td>...</td>\n",
              "      <td>...</td>\n",
              "      <td>...</td>\n",
              "      <td>...</td>\n",
              "      <td>...</td>\n",
              "      <td>...</td>\n",
              "      <td>...</td>\n",
              "    </tr>\n",
              "    <tr>\n",
              "      <th>3015</th>\n",
              "      <td>2017-12-22</td>\n",
              "      <td>296.33</td>\n",
              "      <td>296.52</td>\n",
              "      <td>293.01</td>\n",
              "      <td>295.10</td>\n",
              "      <td>2257350</td>\n",
              "      <td>BA</td>\n",
              "    </tr>\n",
              "    <tr>\n",
              "      <th>3016</th>\n",
              "      <td>2017-12-26</td>\n",
              "      <td>295.54</td>\n",
              "      <td>297.44</td>\n",
              "      <td>294.65</td>\n",
              "      <td>295.36</td>\n",
              "      <td>1394737</td>\n",
              "      <td>BA</td>\n",
              "    </tr>\n",
              "    <tr>\n",
              "      <th>3017</th>\n",
              "      <td>2017-12-27</td>\n",
              "      <td>296.41</td>\n",
              "      <td>296.80</td>\n",
              "      <td>294.80</td>\n",
              "      <td>295.62</td>\n",
              "      <td>1447837</td>\n",
              "      <td>BA</td>\n",
              "    </tr>\n",
              "    <tr>\n",
              "      <th>3018</th>\n",
              "      <td>2017-12-28</td>\n",
              "      <td>295.81</td>\n",
              "      <td>296.99</td>\n",
              "      <td>294.74</td>\n",
              "      <td>296.35</td>\n",
              "      <td>1436751</td>\n",
              "      <td>BA</td>\n",
              "    </tr>\n",
              "    <tr>\n",
              "      <th>3019</th>\n",
              "      <td>2017-12-29</td>\n",
              "      <td>296.94</td>\n",
              "      <td>297.30</td>\n",
              "      <td>294.83</td>\n",
              "      <td>294.91</td>\n",
              "      <td>1824591</td>\n",
              "      <td>BA</td>\n",
              "    </tr>\n",
              "  </tbody>\n",
              "</table>\n",
              "<p>3020 rows × 7 columns</p>\n",
              "</div>\n",
              "    <div class=\"colab-df-buttons\">\n",
              "\n",
              "  <div class=\"colab-df-container\">\n",
              "    <button class=\"colab-df-convert\" onclick=\"convertToInteractive('df-345528d2-6a00-4160-96ea-116e47aceb4c')\"\n",
              "            title=\"Convert this dataframe to an interactive table.\"\n",
              "            style=\"display:none;\">\n",
              "\n",
              "  <svg xmlns=\"http://www.w3.org/2000/svg\" height=\"24px\" viewBox=\"0 -960 960 960\">\n",
              "    <path d=\"M120-120v-720h720v720H120Zm60-500h600v-160H180v160Zm220 220h160v-160H400v160Zm0 220h160v-160H400v160ZM180-400h160v-160H180v160Zm440 0h160v-160H620v160ZM180-180h160v-160H180v160Zm440 0h160v-160H620v160Z\"/>\n",
              "  </svg>\n",
              "    </button>\n",
              "\n",
              "  <style>\n",
              "    .colab-df-container {\n",
              "      display:flex;\n",
              "      gap: 12px;\n",
              "    }\n",
              "\n",
              "    .colab-df-convert {\n",
              "      background-color: #E8F0FE;\n",
              "      border: none;\n",
              "      border-radius: 50%;\n",
              "      cursor: pointer;\n",
              "      display: none;\n",
              "      fill: #1967D2;\n",
              "      height: 32px;\n",
              "      padding: 0 0 0 0;\n",
              "      width: 32px;\n",
              "    }\n",
              "\n",
              "    .colab-df-convert:hover {\n",
              "      background-color: #E2EBFA;\n",
              "      box-shadow: 0px 1px 2px rgba(60, 64, 67, 0.3), 0px 1px 3px 1px rgba(60, 64, 67, 0.15);\n",
              "      fill: #174EA6;\n",
              "    }\n",
              "\n",
              "    .colab-df-buttons div {\n",
              "      margin-bottom: 4px;\n",
              "    }\n",
              "\n",
              "    [theme=dark] .colab-df-convert {\n",
              "      background-color: #3B4455;\n",
              "      fill: #D2E3FC;\n",
              "    }\n",
              "\n",
              "    [theme=dark] .colab-df-convert:hover {\n",
              "      background-color: #434B5C;\n",
              "      box-shadow: 0px 1px 3px 1px rgba(0, 0, 0, 0.15);\n",
              "      filter: drop-shadow(0px 1px 2px rgba(0, 0, 0, 0.3));\n",
              "      fill: #FFFFFF;\n",
              "    }\n",
              "  </style>\n",
              "\n",
              "    <script>\n",
              "      const buttonEl =\n",
              "        document.querySelector('#df-345528d2-6a00-4160-96ea-116e47aceb4c button.colab-df-convert');\n",
              "      buttonEl.style.display =\n",
              "        google.colab.kernel.accessAllowed ? 'block' : 'none';\n",
              "\n",
              "      async function convertToInteractive(key) {\n",
              "        const element = document.querySelector('#df-345528d2-6a00-4160-96ea-116e47aceb4c');\n",
              "        const dataTable =\n",
              "          await google.colab.kernel.invokeFunction('convertToInteractive',\n",
              "                                                    [key], {});\n",
              "        if (!dataTable) return;\n",
              "\n",
              "        const docLinkHtml = 'Like what you see? Visit the ' +\n",
              "          '<a target=\"_blank\" href=https://colab.research.google.com/notebooks/data_table.ipynb>data table notebook</a>'\n",
              "          + ' to learn more about interactive tables.';\n",
              "        element.innerHTML = '';\n",
              "        dataTable['output_type'] = 'display_data';\n",
              "        await google.colab.output.renderOutput(dataTable, element);\n",
              "        const docLink = document.createElement('div');\n",
              "        docLink.innerHTML = docLinkHtml;\n",
              "        element.appendChild(docLink);\n",
              "      }\n",
              "    </script>\n",
              "  </div>\n",
              "\n",
              "\n",
              "<div id=\"df-ea840fd6-0711-42bc-a61e-186e681c70ed\">\n",
              "  <button class=\"colab-df-quickchart\" onclick=\"quickchart('df-ea840fd6-0711-42bc-a61e-186e681c70ed')\"\n",
              "            title=\"Suggest charts\"\n",
              "            style=\"display:none;\">\n",
              "\n",
              "<svg xmlns=\"http://www.w3.org/2000/svg\" height=\"24px\"viewBox=\"0 0 24 24\"\n",
              "     width=\"24px\">\n",
              "    <g>\n",
              "        <path d=\"M19 3H5c-1.1 0-2 .9-2 2v14c0 1.1.9 2 2 2h14c1.1 0 2-.9 2-2V5c0-1.1-.9-2-2-2zM9 17H7v-7h2v7zm4 0h-2V7h2v10zm4 0h-2v-4h2v4z\"/>\n",
              "    </g>\n",
              "</svg>\n",
              "  </button>\n",
              "\n",
              "<style>\n",
              "  .colab-df-quickchart {\n",
              "      --bg-color: #E8F0FE;\n",
              "      --fill-color: #1967D2;\n",
              "      --hover-bg-color: #E2EBFA;\n",
              "      --hover-fill-color: #174EA6;\n",
              "      --disabled-fill-color: #AAA;\n",
              "      --disabled-bg-color: #DDD;\n",
              "  }\n",
              "\n",
              "  [theme=dark] .colab-df-quickchart {\n",
              "      --bg-color: #3B4455;\n",
              "      --fill-color: #D2E3FC;\n",
              "      --hover-bg-color: #434B5C;\n",
              "      --hover-fill-color: #FFFFFF;\n",
              "      --disabled-bg-color: #3B4455;\n",
              "      --disabled-fill-color: #666;\n",
              "  }\n",
              "\n",
              "  .colab-df-quickchart {\n",
              "    background-color: var(--bg-color);\n",
              "    border: none;\n",
              "    border-radius: 50%;\n",
              "    cursor: pointer;\n",
              "    display: none;\n",
              "    fill: var(--fill-color);\n",
              "    height: 32px;\n",
              "    padding: 0;\n",
              "    width: 32px;\n",
              "  }\n",
              "\n",
              "  .colab-df-quickchart:hover {\n",
              "    background-color: var(--hover-bg-color);\n",
              "    box-shadow: 0 1px 2px rgba(60, 64, 67, 0.3), 0 1px 3px 1px rgba(60, 64, 67, 0.15);\n",
              "    fill: var(--button-hover-fill-color);\n",
              "  }\n",
              "\n",
              "  .colab-df-quickchart-complete:disabled,\n",
              "  .colab-df-quickchart-complete:disabled:hover {\n",
              "    background-color: var(--disabled-bg-color);\n",
              "    fill: var(--disabled-fill-color);\n",
              "    box-shadow: none;\n",
              "  }\n",
              "\n",
              "  .colab-df-spinner {\n",
              "    border: 2px solid var(--fill-color);\n",
              "    border-color: transparent;\n",
              "    border-bottom-color: var(--fill-color);\n",
              "    animation:\n",
              "      spin 1s steps(1) infinite;\n",
              "  }\n",
              "\n",
              "  @keyframes spin {\n",
              "    0% {\n",
              "      border-color: transparent;\n",
              "      border-bottom-color: var(--fill-color);\n",
              "      border-left-color: var(--fill-color);\n",
              "    }\n",
              "    20% {\n",
              "      border-color: transparent;\n",
              "      border-left-color: var(--fill-color);\n",
              "      border-top-color: var(--fill-color);\n",
              "    }\n",
              "    30% {\n",
              "      border-color: transparent;\n",
              "      border-left-color: var(--fill-color);\n",
              "      border-top-color: var(--fill-color);\n",
              "      border-right-color: var(--fill-color);\n",
              "    }\n",
              "    40% {\n",
              "      border-color: transparent;\n",
              "      border-right-color: var(--fill-color);\n",
              "      border-top-color: var(--fill-color);\n",
              "    }\n",
              "    60% {\n",
              "      border-color: transparent;\n",
              "      border-right-color: var(--fill-color);\n",
              "    }\n",
              "    80% {\n",
              "      border-color: transparent;\n",
              "      border-right-color: var(--fill-color);\n",
              "      border-bottom-color: var(--fill-color);\n",
              "    }\n",
              "    90% {\n",
              "      border-color: transparent;\n",
              "      border-bottom-color: var(--fill-color);\n",
              "    }\n",
              "  }\n",
              "</style>\n",
              "\n",
              "  <script>\n",
              "    async function quickchart(key) {\n",
              "      const quickchartButtonEl =\n",
              "        document.querySelector('#' + key + ' button');\n",
              "      quickchartButtonEl.disabled = true;  // To prevent multiple clicks.\n",
              "      quickchartButtonEl.classList.add('colab-df-spinner');\n",
              "      try {\n",
              "        const charts = await google.colab.kernel.invokeFunction(\n",
              "            'suggestCharts', [key], {});\n",
              "      } catch (error) {\n",
              "        console.error('Error during call to suggestCharts:', error);\n",
              "      }\n",
              "      quickchartButtonEl.classList.remove('colab-df-spinner');\n",
              "      quickchartButtonEl.classList.add('colab-df-quickchart-complete');\n",
              "    }\n",
              "    (() => {\n",
              "      let quickchartButtonEl =\n",
              "        document.querySelector('#df-ea840fd6-0711-42bc-a61e-186e681c70ed button');\n",
              "      quickchartButtonEl.style.display =\n",
              "        google.colab.kernel.accessAllowed ? 'block' : 'none';\n",
              "    })();\n",
              "  </script>\n",
              "</div>\n",
              "    </div>\n",
              "  </div>\n"
            ]
          },
          "metadata": {},
          "execution_count": 172
        }
      ]
    },
    {
      "cell_type": "code",
      "source": [
        "df.isna().sum()"
      ],
      "metadata": {
        "colab": {
          "base_uri": "https://localhost:8080/"
        },
        "id": "Y3-gbDMRW_dB",
        "outputId": "20d52585-3952-4b73-d1d3-1e350299366b"
      },
      "execution_count": 173,
      "outputs": [
        {
          "output_type": "execute_result",
          "data": {
            "text/plain": [
              "Date      0\n",
              "Open      1\n",
              "High      1\n",
              "Low       1\n",
              "Close     0\n",
              "Volume    0\n",
              "Name      0\n",
              "dtype: int64"
            ]
          },
          "metadata": {},
          "execution_count": 173
        }
      ]
    },
    {
      "cell_type": "code",
      "source": [
        "df.dropna(axis=0, inplace=True)"
      ],
      "metadata": {
        "id": "J7D9C3y18dFu"
      },
      "execution_count": 174,
      "outputs": []
    },
    {
      "cell_type": "code",
      "source": [
        "dates = df['Date'].values\n",
        "stock = df['High'].values\n",
        "\n",
        "plt.figure(figsize=(15,5))\n",
        "plt.plot(dates, stock)\n",
        "plt.title('Time Series of Stock Highs',\n",
        "          fontsize=20);"
      ],
      "metadata": {
        "colab": {
          "base_uri": "https://localhost:8080/",
          "height": 453
        },
        "id": "xW4lcmWZXD_p",
        "outputId": "ffc8ea3f-f1eb-446c-bfd7-4d013fadda37"
      },
      "execution_count": 175,
      "outputs": [
        {
          "output_type": "display_data",
          "data": {
            "text/plain": [
              "<Figure size 1500x500 with 1 Axes>"
            ],
            "image/png": "[encoded data removed]"
          },
          "metadata": {}
        }
      ]
    },
    {
      "cell_type": "code",
      "source": [
        "df['Date'] = pd.to_datetime(df['Date'])\n",
        "dataset = df.set_index('Date')"
      ],
      "metadata": {
        "id": "nTLE2c59XhYe"
      },
      "execution_count": 176,
      "outputs": []
    },
    {
      "cell_type": "code",
      "source": [
        "stock = stock.reshape(-1,1)\n",
        "stock"
      ],
      "metadata": {
        "colab": {
          "base_uri": "https://localhost:8080/"
        },
        "id": "NzSzU707Xrwb",
        "outputId": "a1fdf6e6-6fb3-4a0f-c2c5-974857b14a77"
      },
      "execution_count": 177,
      "outputs": [
        {
          "output_type": "execute_result",
          "data": {
            "text/plain": [
              "array([[ 70.6 ],\n",
              "       [ 71.27],\n",
              "       [ 70.55],\n",
              "       ...,\n",
              "       [296.8 ],\n",
              "       [296.99],\n",
              "       [297.3 ]])"
            ]
          },
          "metadata": {},
          "execution_count": 177
        }
      ]
    },
    {
      "cell_type": "code",
      "source": [
        "scaler = MinMaxScaler()\n",
        "stock = scaler.fit_transform(stock)"
      ],
      "metadata": {
        "id": "93tu6kZfX61r"
      },
      "execution_count": 178,
      "outputs": []
    },
    {
      "cell_type": "code",
      "source": [
        "X_train, X_test, y_train, y_test = train_test_split(stock, dates,\n",
        "                                                    test_size=0.2,\n",
        "                                                    shuffle=False)"
      ],
      "metadata": {
        "id": "7nFDR5JbYPSb"
      },
      "execution_count": 179,
      "outputs": []
    },
    {
      "cell_type": "code",
      "source": [
        "print('Number of Data Train : ',len(X_train))\n",
        "print('Number of Data Validation : ',len(X_test))"
      ],
      "metadata": {
        "colab": {
          "base_uri": "https://localhost:8080/"
        },
        "id": "JVSMI-XlYXsV",
        "outputId": "cf01c27b-da74-40c2-f5ab-e6c3fa70e80c"
      },
      "execution_count": 180,
      "outputs": [
        {
          "output_type": "stream",
          "name": "stdout",
          "text": [
            "Number of Data Train :  2415\n",
            "Number of Data Validation :  604\n"
          ]
        }
      ]
    },
    {
      "cell_type": "markdown",
      "source": [
        "mengubah data menjadi format yang dapat diterima oleh model"
      ],
      "metadata": {
        "id": "RtHWEL1kYmaj"
      }
    },
    {
      "cell_type": "code",
      "source": [
        "def windowed_dataset(series, window_size, batch_size, shuffle_buffer):\n",
        "    series = tf.expand_dims(series, axis=-1)\n",
        "    ds = tf.data.Dataset.from_tensor_slices(series)\n",
        "    ds = ds.window(window_size + 1, shift=1, drop_remainder=True)\n",
        "    ds = ds.flat_map(lambda w: w.batch(window_size + 1))\n",
        "    ds = ds.shuffle(shuffle_buffer)\n",
        "    ds = ds.map(lambda w: (w[:-1], w[-1:]))\n",
        "    return ds.batch(batch_size).prefetch(1)"
      ],
      "metadata": {
        "id": "uGLeJxzyYgWk"
      },
      "execution_count": 181,
      "outputs": []
    },
    {
      "cell_type": "code",
      "source": [
        "train_set = windowed_dataset(X_train, window_size=60, batch_size=64, shuffle_buffer=1000)\n",
        "test_set  = windowed_dataset(X_test, window_size=128, batch_size=64, shuffle_buffer=1000)"
      ],
      "metadata": {
        "id": "-Wz19HRcYtKz"
      },
      "execution_count": 182,
      "outputs": []
    },
    {
      "cell_type": "markdown",
      "source": [
        "Arsitektur model menggunakan 2 buah layer LSTM"
      ],
      "metadata": {
        "id": "K0spZ5fLZy32"
      }
    },
    {
      "cell_type": "code",
      "source": [
        "model = tf.keras.models.Sequential([\n",
        "  tf.keras.layers.LSTM(65, return_sequences=True, input_shape = [None, 1]),\n",
        "  tf.keras.layers.LSTM(65),\n",
        "  tf.keras.layers.Dense(30, activation=\"relu\"),\n",
        "  tf.keras.layers.Dense(10, activation=\"relu\"),\n",
        "  tf.keras.layers.Dense(1),\n",
        "])"
      ],
      "metadata": {
        "id": "HtfeCKC-Yxrl"
      },
      "execution_count": 183,
      "outputs": []
    },
    {
      "cell_type": "code",
      "source": [
        "threshold_mae = (stock.max() - stock.min()) * 10/100\n",
        "print(threshold_mae)"
      ],
      "metadata": {
        "colab": {
          "base_uri": "https://localhost:8080/"
        },
        "id": "-Ph5FZ_GdxDo",
        "outputId": "ca27a159-e16f-4263-ded6-e3276c0162d4"
      },
      "execution_count": 184,
      "outputs": [
        {
          "output_type": "stream",
          "name": "stdout",
          "text": [
            "0.09999999999999998\n"
          ]
        }
      ]
    },
    {
      "cell_type": "markdown",
      "source": [
        "mengimplementasikan callback ketika MAE < 10%"
      ],
      "metadata": {
        "id": "rzZJn5hgZoK6"
      }
    },
    {
      "cell_type": "code",
      "source": [
        "class myCallback(tf.keras.callbacks.Callback):\n",
        "  def __init__(self, min_epochs=10):\n",
        "    self.min_epochs = min_epochs\n",
        "    self.epochs_passed = 0\n",
        "\n",
        "  def on_epoch_end(self, epoch, logs={}):\n",
        "    self.epochs_passed += 1\n",
        "\n",
        "    if self.epochs_passed >= self.min_epochs and logs.get('mae') < threshold_mae:\n",
        "      print(f\"MAE < 10% after {self.epochs_passed} epochs.\")\n",
        "      self.model.stop_training = True\n",
        "\n",
        "callbacks = myCallback()"
      ],
      "metadata": {
        "id": "U9pafj0aZI3K"
      },
      "execution_count": 185,
      "outputs": []
    },
    {
      "cell_type": "code",
      "source": [
        "optimizer = tf.keras.optimizers.SGD(learning_rate=1.0000e-04, momentum=0.9)\n",
        "model.compile(loss=tf.keras.losses.Huber(),\n",
        "              optimizer=optimizer,\n",
        "              metrics=[\"mae\"])\n",
        "\n",
        "history = model.fit(train_set,\n",
        "                    epochs=100,\n",
        "                    validation_data=test_set,\n",
        "                    verbose=2,\n",
        "                    callbacks=[callbacks])"
      ],
      "metadata": {
        "colab": {
          "base_uri": "https://localhost:8080/"
        },
        "id": "ECq-oCzcZOP1",
        "outputId": "1ace64ef-6454-410c-b365-fe0a9f5bdda3"
      },
      "execution_count": 186,
      "outputs": [
        {
          "output_type": "stream",
          "name": "stdout",
          "text": [
            "Epoch 1/100\n",
            "37/37 - 9s - loss: 0.0295 - mae: 0.2173 - val_loss: 0.1810 - val_mae: 0.5709 - 9s/epoch - 255ms/step\n",
            "Epoch 2/100\n",
            "37/37 - 4s - loss: 0.0257 - mae: 0.1992 - val_loss: 0.1705 - val_mae: 0.5494 - 4s/epoch - 111ms/step\n",
            "Epoch 3/100\n",
            "37/37 - 4s - loss: 0.0234 - mae: 0.1874 - val_loss: 0.1630 - val_mae: 0.5382 - 4s/epoch - 120ms/step\n",
            "Epoch 4/100\n",
            "37/37 - 5s - loss: 0.0217 - mae: 0.1780 - val_loss: 0.1569 - val_mae: 0.5252 - 5s/epoch - 140ms/step\n",
            "Epoch 5/100\n",
            "37/37 - 4s - loss: 0.0202 - mae: 0.1697 - val_loss: 0.1520 - val_mae: 0.5184 - 4s/epoch - 112ms/step\n",
            "Epoch 6/100\n",
            "37/37 - 6s - loss: 0.0188 - mae: 0.1621 - val_loss: 0.1475 - val_mae: 0.5095 - 6s/epoch - 154ms/step\n",
            "Epoch 7/100\n",
            "37/37 - 4s - loss: 0.0176 - mae: 0.1551 - val_loss: 0.1434 - val_mae: 0.5019 - 4s/epoch - 121ms/step\n",
            "Epoch 8/100\n",
            "37/37 - 4s - loss: 0.0165 - mae: 0.1488 - val_loss: 0.1396 - val_mae: 0.4936 - 4s/epoch - 113ms/step\n",
            "Epoch 9/100\n",
            "37/37 - 6s - loss: 0.0155 - mae: 0.1429 - val_loss: 0.1360 - val_mae: 0.4845 - 6s/epoch - 166ms/step\n",
            "Epoch 10/100\n",
            "37/37 - 4s - loss: 0.0146 - mae: 0.1373 - val_loss: 0.1327 - val_mae: 0.4792 - 4s/epoch - 112ms/step\n",
            "Epoch 11/100\n",
            "37/37 - 6s - loss: 0.0137 - mae: 0.1321 - val_loss: 0.1296 - val_mae: 0.4728 - 6s/epoch - 163ms/step\n",
            "Epoch 12/100\n",
            "37/37 - 4s - loss: 0.0130 - mae: 0.1274 - val_loss: 0.1267 - val_mae: 0.4656 - 4s/epoch - 113ms/step\n",
            "Epoch 13/100\n",
            "37/37 - 6s - loss: 0.0123 - mae: 0.1230 - val_loss: 0.1240 - val_mae: 0.4600 - 6s/epoch - 162ms/step\n",
            "Epoch 14/100\n",
            "37/37 - 4s - loss: 0.0117 - mae: 0.1189 - val_loss: 0.1215 - val_mae: 0.4528 - 4s/epoch - 112ms/step\n",
            "Epoch 15/100\n",
            "37/37 - 5s - loss: 0.0111 - mae: 0.1151 - val_loss: 0.1190 - val_mae: 0.4478 - 5s/epoch - 132ms/step\n",
            "Epoch 16/100\n",
            "37/37 - 5s - loss: 0.0106 - mae: 0.1113 - val_loss: 0.1168 - val_mae: 0.4463 - 5s/epoch - 146ms/step\n",
            "Epoch 17/100\n",
            "37/37 - 4s - loss: 0.0102 - mae: 0.1079 - val_loss: 0.1147 - val_mae: 0.4390 - 4s/epoch - 112ms/step\n",
            "Epoch 18/100\n",
            "37/37 - 5s - loss: 0.0098 - mae: 0.1047 - val_loss: 0.1127 - val_mae: 0.4334 - 5s/epoch - 132ms/step\n",
            "Epoch 19/100\n",
            "37/37 - 5s - loss: 0.0094 - mae: 0.1019 - val_loss: 0.1108 - val_mae: 0.4304 - 5s/epoch - 145ms/step\n",
            "Epoch 20/100\n",
            "MAE < 10% after 20 epochs.\n",
            "37/37 - 4s - loss: 0.0090 - mae: 0.0991 - val_loss: 0.1091 - val_mae: 0.4262 - 4s/epoch - 112ms/step\n"
          ]
        }
      ]
    },
    {
      "cell_type": "code",
      "source": [
        "\n",
        "plt.figure(figsize=(10, 6))\n",
        "plt.plot(history.history['mae'], label='Training MAE')\n",
        "plt.plot(history.history['val_mae'], label='Validation MAE')\n",
        "plt.title('Training and Validation MAE')\n",
        "plt.xlabel('Epoch')\n",
        "plt.ylabel('MAE')\n",
        "plt.legend()\n",
        "plt.show()\n"
      ],
      "metadata": {
        "id": "Q9DkZJZBREs0",
        "colab": {
          "base_uri": "https://localhost:8080/",
          "height": 564
        },
        "outputId": "fc38c3ac-4f76-4bf8-9b14-e2949986609f"
      },
      "execution_count": 189,
      "outputs": [
        {
          "output_type": "display_data",
          "data": {
            "text/plain": [
              "<Figure size 1000x600 with 1 Axes>"
            ],
            "image/png": "[encoded data removed]"
          },
          "metadata": {}
        }
      ]
    },
    {
      "cell_type": "code",
      "source": [
        "\n",
        "plt.figure(figsize=(10, 6))\n",
        "plt.plot(history.history['loss'], label='Training Loss')\n",
        "plt.plot(history.history['val_loss'], label='Validation Loss')\n",
        "plt.title('Training and Validation Loss')\n",
        "plt.xlabel('Epoch')\n",
        "plt.ylabel('Loss')\n",
        "plt.legend()\n",
        "plt.show()"
      ],
      "metadata": {
        "id": "wcsxPBbNRJ78",
        "colab": {
          "base_uri": "https://localhost:8080/",
          "height": 564
        },
        "outputId": "ca4b9367-4689-479a-825b-3387ded47331"
      },
      "execution_count": 190,
      "outputs": [
        {
          "output_type": "display_data",
          "data": {
            "text/plain": [
              "<Figure size 1000x600 with 1 Axes>"
            ],
            "image/png": "[encoded data removed]"
          },
          "metadata": {}
        }
      ]
    }
  ]
}